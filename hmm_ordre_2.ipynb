{
 "cells": [
  {
   "cell_type": "code",
   "execution_count": 2,
   "metadata": {},
   "outputs": [],
   "source": [
    "import nltk\n",
    "from numpy import array, ones, zeros\n",
    "import sys\n",
    "import pickle\n",
    "\n",
    "# Some words in test could be unseen during training, or out of the vocabulary (OOV) even during the training. \n",
    "# To manage OOVs, all words out the vocabulary are mapped on a special token: UNK defined as follows: \n",
    "UNK = \"<unk>\" \n",
    "UNKid = 0 \n",
    "\n",
    "class HMM:\n",
    "        def __init__(self, state_list, observation_list,\n",
    "                 transition_proba = None,\n",
    "                 observation_proba = None,\n",
    "                 initial_state_proba = None):\n",
    "            \"\"\"Builds a new Hidden Markov Model\n",
    "            state_list is the list of state symbols [q_0...q_(N-1)]\n",
    "            observation_list is the list of observation symbols [v_0...v_(M-1)]\n",
    "            transition_proba is the transition probability matrix\n",
    "                [a_ij] a_ij = Pr(Y_(t+1)=q_i|Y_t=q_j)\n",
    "            observation_proba is the observation probablility matrix\n",
    "                [b_ki] b_ki = Pr(X_t=v_k|Y_t=q_i)\n",
    "            initial_state_proba is the initial state distribution\n",
    "                [pi_i] pi_i = Pr(Y_0=q_i)\"\"\"\n",
    "            print(\"HMM creating with: \")\n",
    "            self.N = len(state_list) # The number of states\n",
    "            self.M = len(observation_list) # The number of words in the vocabulary\n",
    "            print(str(self.N)+\" states\")\n",
    "            print(str(self.M)+\" observations\")\n",
    "            self.omega_Y = state_list # Keep the vocabulary of tags\n",
    "            self.omega_X = observation_list # Keep the vocabulary of words\n",
    "            # Init. of the 3 distributions : observation, transition and initial states\n",
    "            if transition_proba is None:\n",
    "                self.transition_proba = zeros( (self.N, self.N, self.N), float) \n",
    "            else:\n",
    "                self.transition_proba=transition_proba\n",
    "            if observation_proba is None:\n",
    "                self.observation_proba = zeros( (self.M, self.N), float) \n",
    "            else:\n",
    "                self.observation_proba=observation_proba\n",
    "            if initial_state_proba is None:\n",
    "                self.initial_state_proba = zeros( (self.N, self.N), float ) # pi\n",
    "            else:\n",
    "                self.initial_state_proba=initial_state_proba\n",
    "            # Since everything will be stored in numpy arrays, it is more convenient and compact to \n",
    "            # handle words and tags as indices (integer) for a direct access. However, we also need \n",
    "            # to keep the mapping between strings (word or tag) and indices. \n",
    "            self.make_indexes()\n",
    "            self.compute_matrix()\n",
    "\n",
    "        def make_indexes(self):\n",
    "            \"\"\"Creates the reverse table that maps states/observations names\n",
    "            to their index in the probabilities arrays\"\"\"\n",
    "            self.Y_index = {}\n",
    "            for i in range(self.N):\n",
    "                self.Y_index[self.omega_Y[i]] = i\n",
    "            self.X_index = {}\n",
    "            for i in range(self.M):\n",
    "                self.X_index[self.omega_X[i]] = i\n",
    "                \n",
    "        def compute_matrix(self):\n",
    "            trans = zeros( (self.N, self.N, self.N), float)\n",
    "            for (y1, y2, y3), v in self.transition_proba.items():\n",
    "                trans[self.Y_index[y1], self.Y_index[y2], self.Y_index[y3]] = v\n",
    "            self.transition_proba = trans\n",
    "            \n",
    "            obs = zeros( (self.M, self.N), float) \n",
    "            \n",
    "            for (x, y), v in self.observation_proba.items():\n",
    "                obs[self.X_index[x], self.Y_index[y]] = v\n",
    "            self.observation_proba = obs\n",
    "            \n",
    "            init = zeros( (self.N, self.N), float )\n",
    "            for (y1, y2), v in self.initial_state_proba.items():\n",
    "                init[self.Y_index[y1],self.Y_index[y2]] = v\n",
    "            self.initial_state_proba = init"
   ]
  },
  {
   "cell_type": "code",
   "execution_count": 3,
   "metadata": {},
   "outputs": [],
   "source": [
    "# nltk.download(\"brown\")\n",
    "# nltk.download('universal_tagset')\n",
    "# data = nltk.corpus.brown.tagged_sents(tagset='universal')\n",
    "\n",
    "data_train = pickle.load( open( \"/home/biard/Documents/université/m2/s1/tc4_algo_inférence/typos-data/train10.pkl\", \"rb\" ))\n",
    "data_test = pickle.load(open(\"/home/biard/Documents/université/m2/s1/tc4_algo_inférence/typos-data/test10.pkl\", \"rb\"))"
   ]
  },
  {
   "cell_type": "code",
   "execution_count": 4,
   "metadata": {},
   "outputs": [],
   "source": [
    "def make_words_tags_count(data):\n",
    "    count_words = {}\n",
    "    tags = {}\n",
    "    pairs = {}\n",
    "    for sent in data:\n",
    "        for w,t in sent:\n",
    "            if w in count_words:\n",
    "                count_words[w]+=1\n",
    "            else:\n",
    "                count_words[w]=1\n",
    "            if t in tags:\n",
    "                tags[t]+=1\n",
    "            else:\n",
    "                tags[t]=1\n",
    "            if (w,t) in pairs:\n",
    "                pairs[(w,t)]+=1\n",
    "            else:\n",
    "                pairs[(w,t)]=1\n",
    "    return count_words, tags, pairs"
   ]
  },
  {
   "cell_type": "code",
   "execution_count": 5,
   "metadata": {},
   "outputs": [],
   "source": [
    "def filter_dict(data, limit_occ):\n",
    "    words,tags,_=make_words_tags_count(data)\n",
    "    res = []\n",
    "    for s in data:\n",
    "        sent = []\n",
    "        for w,t in s:\n",
    "            if words[w] > limit_occ:\n",
    "                sent.append((w,t))\n",
    "            else:\n",
    "                sent.append((UNK,t))\n",
    "        res.append(sent)\n",
    "    return res\n",
    "data_train=filter_dict(data_train,10)"
   ]
  },
  {
   "cell_type": "code",
   "execution_count": 6,
   "metadata": {},
   "outputs": [],
   "source": [
    "def proba_observation_Y_X(mot, tag, words, pairs):\n",
    "    if (mot,tag) in pairs:\n",
    "        return pairs[(mot,tag)] / words[mot]\n",
    "    else:\n",
    "        return 0\n",
    "\n",
    "def make_all_proba_observation_Y_X(data):\n",
    "    words,tags,pairs=make_words_tags_count(data)\n",
    "    res = {}\n",
    "    for (w,t),c in pairs.items():\n",
    "        res[(w,t)]=proba_observation_Y_X(w,t,words,pairs)\n",
    "    s = sum(v for k, v in res.items())\n",
    "    res = {k: v / s for k, v in res.items()}\n",
    "    return res"
   ]
  },
  {
   "cell_type": "code",
   "execution_count": 7,
   "metadata": {},
   "outputs": [],
   "source": [
    "def proba_transition_Y2_Y1_Y0(tag2, tag1, tag0, triplets, pairs):\n",
    "    if (tag2,tag1,tag0) in triplets:\n",
    "        return triplets[(tag2, tag1, tag0)] / pairs[tag1, tag0]\n",
    "    else:\n",
    "        return 0\n",
    "\n",
    "def make_tags_triplets(data):\n",
    "    triplets = {}\n",
    "    for s in data:\n",
    "        for i in range(len(s) - 2):\n",
    "            if (s[i+2][1], s[i+1][1], s[i][1]) in triplets:\n",
    "                triplets[s[i+2][1], s[i+1][1], s[i][1]]+=1\n",
    "            else:\n",
    "                triplets[s[i+2][1], s[i+1][1], s[i][1]]=1\n",
    "    return triplets\n",
    "\n",
    "def make_tags_pairs(data):\n",
    "    pairs = {}\n",
    "    for s in data:\n",
    "        for i in range(len(s) - 1):\n",
    "            if (s[i+1][1], s[i][1]) in pairs:\n",
    "                pairs[s[i+1][1], s[i][1]]+=1\n",
    "            else:\n",
    "                pairs[s[i+1][1], s[i][1]]=1\n",
    "    return pairs\n",
    "\n",
    "def make_all_proba_transition_Y1_Y0(data):\n",
    "    triplets=make_tags_triplets(data)\n",
    "    pairs=make_tags_pairs(data)\n",
    "    res = {}\n",
    "    for (y2,y1,y0),c in triplets.items():\n",
    "        res[(y2,y1,y0)]=proba_transition_Y2_Y1_Y0(y2,y1,y0, triplets, pairs)\n",
    "    s = sum(v for k, v in res.items())\n",
    "    res = {k: v / s for k, v in res.items()}\n",
    "    return res"
   ]
  },
  {
   "cell_type": "code",
   "execution_count": 8,
   "metadata": {},
   "outputs": [],
   "source": [
    "def makePi(data):\n",
    "    res = {}\n",
    "    total = 0\n",
    "    for s in data:\n",
    "        if len(s) > 1 and (s[0][1],s[1][1]) in res:\n",
    "            res[s[0][1],s[1][1]] += 1\n",
    "        elif len(s) > 1:\n",
    "            res[s[0][1],s[1][1]] = 1\n",
    "        total += 1\n",
    "    for k,v in res.items():\n",
    "        res[k] /= total\n",
    "    return res"
   ]
  },
  {
   "cell_type": "code",
   "execution_count": 9,
   "metadata": {},
   "outputs": [],
   "source": [
    "def initHMM2(data):\n",
    "    count_words, count_tags, pairs = make_words_tags_count(data)\n",
    "    obs = make_all_proba_observation_Y_X(data)\n",
    "    trans = make_all_proba_transition_Y1_Y0(data)\n",
    "    return HMM([t for t,_ in count_tags.items()], [w for w,_ in count_words.items()], trans, obs, makePi(data))"
   ]
  },
  {
   "cell_type": "code",
   "execution_count": 10,
   "metadata": {},
   "outputs": [
    {
     "name": "stdout",
     "output_type": "stream",
     "text": [
      "HMM creating with: \n",
      "26 states\n",
      "26 observations\n"
     ]
    }
   ],
   "source": [
    "HMM2 = initHMM2(data_train)"
   ]
  },
  {
   "cell_type": "code",
   "execution_count": 11,
   "metadata": {},
   "outputs": [],
   "source": [
    "def viterbi(seq, hmm):\n",
    "    if len(seq) <= 1:\n",
    "        return [\"\"] # il faut une phrases de longueur minimale 2\n",
    "    pi_0 = hmm.initial_state_proba[hmm.Y_index[seq[0][1]], hmm.Y_index[seq[1][1]]]\n",
    "    b_0 = hmm.observation_proba[hmm.X_index[seq[1][0]], hmm.Y_index[seq[1][1]]]\n",
    "    prob = pi_0 * b_0\n",
    "    res = [\"\",\"\"] # on ne compte pas le 1er et le 2e\n",
    "    y_t_moins_un = seq[0][1]\n",
    "    y_t_moins_deux = seq[1][1]\n",
    "    for x_t, y_to_pred in seq[2:]:\n",
    "        tmp = 0\n",
    "        pred = \"\"\n",
    "        for y_t in hmm.omega_Y:\n",
    "            curr = prob * \\\n",
    "                hmm.transition_proba[hmm.Y_index[y_t], hmm.Y_index[y_t_moins_un], hmm.Y_index[y_t_moins_deux]] * \\\n",
    "                hmm.observation_proba[hmm.X_index[x_t], hmm.Y_index[y_t]]\n",
    "            if curr > tmp:\n",
    "                tmp = curr\n",
    "                pred = y_t\n",
    "        y_t_moins_deux = y_t_moins_un\n",
    "        y_t_moins_un = y_to_pred\n",
    "        res.append(pred)\n",
    "    return res"
   ]
  },
  {
   "cell_type": "code",
   "execution_count": 12,
   "metadata": {},
   "outputs": [],
   "source": [
    "def test(hmm, data):\n",
    "    error = 0\n",
    "    total = 0\n",
    "    for seq in data:\n",
    "        res = viterbi(seq, hmm)\n",
    "        for y_pred, (_, y) in list(zip(res, seq))[2:]: # on ne compte pas le 1er et le 2e\n",
    "            error += 1 if y_pred != y else 0\n",
    "            total += 1\n",
    "    return error / total"
   ]
  },
  {
   "cell_type": "code",
   "execution_count": 13,
   "metadata": {},
   "outputs": [],
   "source": [
    "e = test(HMM2, data_test)"
   ]
  },
  {
   "cell_type": "code",
   "execution_count": 14,
   "metadata": {},
   "outputs": [
    {
     "name": "stdout",
     "output_type": "stream",
     "text": [
      "0.2992432928227471\n"
     ]
    }
   ],
   "source": [
    "print(e)"
   ]
  },
  {
   "cell_type": "code",
   "execution_count": null,
   "metadata": {},
   "outputs": [],
   "source": []
  }
 ],
 "metadata": {
  "kernelspec": {
   "display_name": "Python 3",
   "language": "python",
   "name": "python3"
  },
  "language_info": {
   "codemirror_mode": {
    "name": "ipython",
    "version": 3
   },
   "file_extension": ".py",
   "mimetype": "text/x-python",
   "name": "python",
   "nbconvert_exporter": "python",
   "pygments_lexer": "ipython3",
   "version": "3.7.1"
  }
 },
 "nbformat": 4,
 "nbformat_minor": 2
}
