{
 "cells": [
  {
   "cell_type": "markdown",
   "metadata": {
    "colab_type": "text",
    "id": "IwILkW1F8FnJ"
   },
   "source": [
    "# Introduction\n",
    "\n",
    "Ce TP continue le TP précédent. Nous allons reprendre d'ailleurs les mêmes données et commencer la mise en oeuvre d'un modèle de Markov pour la prédiction des étiquettes: \n",
    "* une observation est une phrase, représentée comme une séquence de variables aléatoires, une par mot de la phrase\n",
    "* à cette observation est associée une séquence de variables aléatoires représentant les étiquettes, une par mot de la phrase également\n",
    "\n",
    "On suppose que la séquence d'observation (une phrase) est générée par un modèle de Markov caché. Les variables cachées sont donc les étiquettes à inférer. Nous allons commencer par écrire une classe python pour représenter le HMM. Cette classe évoluera au fil des TPs. \n",
    "\n",
    "Pour cela le code de départ suivant est donné. Afin d'initialiser un HMM, nous devons connaitre : \n",
    "- l'ensemble des états (ou *state_list*), dans notre cas l'ensemble des étiquettes grammaticales;\n",
    "- l'ensemble des observations (ou *observation_list*), dans notre cas l'ensemble des mots connus; tous les autres mots seront remplacés par l'élément spécial *UNK* qui fait partie de l'ensemble des observations. \n",
    "\n",
    "Enfin, en interne il est plus facile d'indexer les mots et et les états par des entiers. Ainsi à chaque éléments de respectivement l'ensemble des états et l'ensemble des observations, est associé un indice. Cela nous permet de tout traiter en \"matricielle\". "
   ]
  },
  {
   "cell_type": "code",
   "execution_count": 1,
   "metadata": {
    "colab": {},
    "colab_type": "code",
    "id": "NtP9d0Pz8FnL"
   },
   "outputs": [],
   "source": [
    "import nltk\n",
    "from numpy import array, ones, zeros\n",
    "import sys\n",
    "import pickle\n",
    "\n",
    "# Some words in test could be unseen during training, or out of the vocabulary (OOV) even during the training. \n",
    "# To manage OOVs, all words out the vocabulary are mapped on a special token: UNK defined as follows: \n",
    "UNK = \"<unk>\" \n",
    "UNKid = 0 \n",
    "\n",
    "class HMM:\n",
    "        def __init__(self, state_list, observation_list,\n",
    "                 transition_proba = None,\n",
    "                 observation_proba = None,\n",
    "                 initial_state_proba = None):\n",
    "            \"\"\"Builds a new Hidden Markov Model\n",
    "            state_list is the list of state symbols [q_0...q_(N-1)]\n",
    "            observation_list is the list of observation symbols [v_0...v_(M-1)]\n",
    "            transition_proba is the transition probability matrix\n",
    "                [a_ij] a_ij = Pr(Y_(t+1)=q_i|Y_t=q_j)\n",
    "            observation_proba is the observation probablility matrix\n",
    "                [b_ki] b_ki = Pr(X_t=v_k|Y_t=q_i)\n",
    "            initial_state_proba is the initial state distribution\n",
    "                [pi_i] pi_i = Pr(Y_0=q_i)\"\"\"\n",
    "            print(\"HMM creating with: \")\n",
    "            self.N = len(state_list) # The number of states\n",
    "            self.M = len(observation_list) # The number of words in the vocabulary\n",
    "            print(str(self.N)+\" states\")\n",
    "            print(str(self.M)+\" observations\")\n",
    "            self.omega_Y = state_list # Keep the vocabulary of tags\n",
    "            self.omega_X = observation_list # Keep the vocabulary of words\n",
    "            # Init. of the 3 distributions : observation, transition and initial states\n",
    "            if transition_proba is None:\n",
    "                self.transition_proba = zeros( (self.N, self.N), float) \n",
    "            else:\n",
    "                self.transition_proba=transition_proba\n",
    "            if observation_proba is None:\n",
    "                self.observation_proba = zeros( (self.M, self.N), float) \n",
    "            else:\n",
    "                self.observation_proba=observation_proba\n",
    "            if initial_state_proba is None:\n",
    "                self.initial_state_proba = zeros( (self.N,), float ) # pi\n",
    "            else:\n",
    "                self.initial_state_proba=initial_state_proba\n",
    "            # Since everything will be stored in numpy arrays, it is more convenient and compact to \n",
    "            # handle words and tags as indices (integer) for a direct access. However, we also need \n",
    "            # to keep the mapping between strings (word or tag) and indices. \n",
    "            self.make_indexes()\n",
    "            self.compute_matrix()\n",
    "\n",
    "        def make_indexes(self):\n",
    "            \"\"\"Creates the reverse table that maps states/observations names\n",
    "            to their index in the probabilities arrays\"\"\"\n",
    "            self.Y_index = {}\n",
    "            for i in range(self.N):\n",
    "                self.Y_index[self.omega_Y[i]] = i\n",
    "            self.X_index = {}\n",
    "            for i in range(self.M):\n",
    "                self.X_index[self.omega_X[i]] = i\n",
    "                \n",
    "        def compute_matrix(self):\n",
    "            trans = zeros( (self.N, self.N), float)\n",
    "            for (y1, y2), v in self.transition_proba.items():\n",
    "                trans[self.Y_index[y1], self.Y_index[y2]] = v\n",
    "            self.transition_proba = trans\n",
    "            \n",
    "            obs = zeros( (self.M, self.N), float) \n",
    "            \n",
    "            for (x, y), v in self.observation_proba.items():\n",
    "                obs[self.X_index[x], self.Y_index[y]] = v\n",
    "            self.observation_proba = obs\n",
    "            \n",
    "            init = zeros( (self.N,), float )\n",
    "            for y, v in self.initial_state_proba.items():\n",
    "                init[self.Y_index[y]] = v\n",
    "            self.initial_state_proba = init\n"
   ]
  },
  {
   "cell_type": "code",
   "execution_count": 1,
   "metadata": {},
   "outputs": [],
   "source": [
    "# nltk.download(\"brown\")\n",
    "# nltk.download('universal_tagset')\n",
    "# data = nltk.corpus.brown.tagged_sents(tagset='universal')\n",
    "\n",
    "data_train = pickle.load( open( \"/home/biard/Documents/université/m2/s1/tc4_algo_inférence/typos-data/train10.pkl\", \"rb\" ))\n",
    "data_test = pickle.load(open(\"/home/biard/Documents/université/m2/s1/tc4_algo_inférence/typos-data/test10.pkl\", \"rb\"))"
   ]
  },
  {
   "cell_type": "markdown",
   "metadata": {
    "colab_type": "text",
    "id": "NuO2bOCE8FnR"
   },
   "source": [
    "# Interface avec les données et apprentissage supervisé\n",
    "\n",
    "Ainsi pour initialiser un HMM, nous allons devoir lire les données (chose faîte lors du TP précédent): \n",
    "* écrire une fonction permettant d'initialiser le HMM à partir des données d'apprentissage\n",
    "* écrire une fonction *apprentissage_supervisé* qui permet d'estimer les paramètres \n",
    "\n",
    "Dans un premier temps, nous limiterons, comme lors du TP précédent, le vocabulaire aux mots apparaissant 10 fois ou plus. Les autres mots sont tous remplacés par la même forme *unk*\n",
    "\n",
    "Pour cela, le plan de travail peut être envisagé ainsi: \n",
    "* Lire les données puis générer un corpus de **train** (80%) puis de **test** (10%)\n",
    "* écrire une fonction qui créer à partir des données d'apprentissage (**train**), tous les comptes nécessaires pour l'estimation supervisée des paramètres du HMM\n",
    "* écrire 3 fonctions qui estimes les paramètres à partir des comptes, une fonction par distribution: observation, transition, état initial. \n",
    "* écrire une fonction qui reprend le tout et qui estime tous les paramètres du HMM\n",
    "\n",
    "\n",
    "# Exercice : Algorithme de Viterbi\n",
    "\n",
    "La question qui se pose est comment calculer la meilleure séquence d'étiquettes pour une phrase donnée connaissant les paramètres du HMM. Par meilleure, on entend la séquence d'étiquettes (ou d'états) la plus probable connaissant la séquence d'obervation. \n",
    "\n",
    "Proposer et implémenter un algorithme répondant à cette question. Pour vous aider à démarrer, cet algorithme s'appelle Viterbi et regardez cette vidéo https://www.youtube.com/watch?v=RwwfUICZLsA, pour comprendre comment il opère. \n",
    "\n",
    "# TODO pour la prochaine fois\n",
    "\n",
    "* Finir la partie interface (qui comprend l'apprentissage supervisé)\n",
    "* Regarder la vidéo et implémenter l'algorithme de Viterbi\n",
    "\n",
    "\n"
   ]
  },
  {
   "cell_type": "code",
   "execution_count": 3,
   "metadata": {},
   "outputs": [],
   "source": [
    "def make_words_tags_count(data):\n",
    "    count_words = {}\n",
    "    tags = {}\n",
    "    pairs = {}\n",
    "    for sent in data:\n",
    "        for w,t in sent:\n",
    "            if w in count_words:\n",
    "                count_words[w]+=1\n",
    "            else:\n",
    "                count_words[w]=1\n",
    "            if t in tags:\n",
    "                tags[t]+=1\n",
    "            else:\n",
    "                tags[t]=1\n",
    "            if (w,t) in pairs:\n",
    "                pairs[(w,t)]+=1\n",
    "            else:\n",
    "                pairs[(w,t)]=1\n",
    "    return count_words, tags, pairs"
   ]
  },
  {
   "cell_type": "code",
   "execution_count": 4,
   "metadata": {},
   "outputs": [],
   "source": [
    "def filter_dict(data, limit_occ):\n",
    "    words,tags,_=make_words_tags_count(data)\n",
    "    res = []\n",
    "    for s in data:\n",
    "        sent = []\n",
    "        for w,t in s:\n",
    "            if words[w] > limit_occ:\n",
    "                sent.append((w,t))\n",
    "            else:\n",
    "                sent.append((UNK,t))\n",
    "        res.append(sent)\n",
    "    return res\n",
    "data_train=filter_dict(data_train,10)"
   ]
  },
  {
   "cell_type": "code",
   "execution_count": 5,
   "metadata": {},
   "outputs": [],
   "source": [
    "def proba_observation_Y_X(mot, tag, words, pairs):\n",
    "    if (mot,tag) in pairs:\n",
    "        return pairs[(mot,tag)] / words[mot]\n",
    "    else:\n",
    "        return 0\n",
    "\n",
    "def make_all_proba_observation_Y_X(data):\n",
    "    words,tags,pairs=make_words_tags_count(data)\n",
    "    res = {}\n",
    "    for (w,t),c in pairs.items():\n",
    "        res[(w,t)]=proba_observation_Y_X(w,t,words,pairs)\n",
    "    s = sum(v for k, v in res.items())\n",
    "    res = {k: v / s for k, v in res.items()}\n",
    "    return res"
   ]
  },
  {
   "cell_type": "code",
   "execution_count": 6,
   "metadata": {},
   "outputs": [],
   "source": [
    "def proba_transition_Y1_Y0(tag1, tag0, pairs, tags):\n",
    "    if (tag1,tag0) in pairs:\n",
    "        return pairs[(tag1, tag0)] / tags[tag1]\n",
    "    else:\n",
    "        return 0\n",
    "\n",
    "def make_tags_pairs(data):\n",
    "    pairs = {}\n",
    "    for s in data:\n",
    "        for i in range(len(s) - 1):\n",
    "            if (s[i+1][1], s[i][1]) in pairs:\n",
    "                pairs[s[i+1][1], s[i][1]]+=1\n",
    "            else:\n",
    "                pairs[s[i+1][1], s[i][1]]=1\n",
    "    return pairs\n",
    "\n",
    "def make_all_proba_transition_Y1_Y0(data):\n",
    "    _,tags,_=make_words_tags_count(data)\n",
    "    pairs=make_tags_pairs(data)\n",
    "    res = {}\n",
    "    for (y1,y0),c in pairs.items():\n",
    "        res[(y1,y0)]=proba_transition_Y1_Y0(y1,y0, pairs, tags)\n",
    "    s = sum(v for k, v in res.items())\n",
    "    res = {k: v / s for k, v in res.items()}\n",
    "    return res"
   ]
  },
  {
   "cell_type": "code",
   "execution_count": 7,
   "metadata": {},
   "outputs": [],
   "source": [
    "def makePi(data):\n",
    "    res = {}\n",
    "    total = 0\n",
    "    for s in data:\n",
    "        if s[0][1] in res:\n",
    "            res[s[0][1]] += 1\n",
    "        else:\n",
    "            res[s[0][1]] = 1\n",
    "        total += 1\n",
    "    for k,v in res.items():\n",
    "        res[k] /= total\n",
    "    return res"
   ]
  },
  {
   "cell_type": "code",
   "execution_count": 8,
   "metadata": {},
   "outputs": [],
   "source": [
    "def initHMM2(data):\n",
    "    count_words, count_tags, pairs = make_words_tags_count(data)\n",
    "    obs = make_all_proba_observation_Y_X(data)\n",
    "    trans = make_all_proba_transition_Y1_Y0(data)\n",
    "    return HMM([t for t,_ in count_tags.items()], [w for w,_ in count_words.items()], trans, obs, makePi(data))"
   ]
  },
  {
   "cell_type": "code",
   "execution_count": 9,
   "metadata": {},
   "outputs": [
    {
     "name": "stdout",
     "output_type": "stream",
     "text": [
      "HMM creating with: \n",
      "12 states\n",
      "8288 observations\n"
     ]
    }
   ],
   "source": [
    "HMM2 = initHMM2(data_train)"
   ]
  },
  {
   "cell_type": "code",
   "execution_count": 10,
   "metadata": {},
   "outputs": [],
   "source": [
    "def viterbi(seq, hmm):\n",
    "    pi_0 = hmm.initial_state_proba[hmm.Y_index[seq[0][1]]]\n",
    "    b_0 = hmm.observation_proba[hmm.X_index[seq[0][0]], hmm.Y_index[seq[0][1]]]\n",
    "    prob = pi_0 * b_0\n",
    "    res = [\"\"] # on ne compte pas le premier\n",
    "    y_t_moins_un = seq[0][1]\n",
    "    for x_t, y_to_pred in seq[1:]:\n",
    "        tmp = 0\n",
    "        pred = \"\"\n",
    "        for y_t in hmm.omega_Y:\n",
    "            curr = prob * hmm.transition_proba[hmm.Y_index[y_t], hmm.Y_index[y_t_moins_un]] * \\\n",
    "                hmm.observation_proba[hmm.X_index[x_t], hmm.Y_index[y_t]]\n",
    "            if curr > tmp:\n",
    "                tmp = curr\n",
    "                pred = y_t\n",
    "        y_t_moins_un = y_to_pred\n",
    "        res.append(pred)\n",
    "    return res\n",
    "        "
   ]
  },
  {
   "cell_type": "code",
   "execution_count": 11,
   "metadata": {},
   "outputs": [],
   "source": [
    "res=viterbi(data_train[0], HMM2)"
   ]
  },
  {
   "cell_type": "code",
   "execution_count": 15,
   "metadata": {},
   "outputs": [],
   "source": [
    "def test(hmm, data):\n",
    "    error = 0\n",
    "    total = 0\n",
    "    for seq in data:\n",
    "        res = viterbi(seq, hmm)\n",
    "        for y_pred, (_, y) in list(zip(res, seq))[1:]: # on ne compte pas le 1er\n",
    "            error += 1 if y_pred != y else 0\n",
    "            total += 1\n",
    "    return error / total"
   ]
  },
  {
   "cell_type": "code",
   "execution_count": 16,
   "metadata": {},
   "outputs": [],
   "source": [
    "e = test(HMM2, data_test)"
   ]
  },
  {
   "cell_type": "code",
   "execution_count": 17,
   "metadata": {},
   "outputs": [
    {
     "name": "stdout",
     "output_type": "stream",
     "text": [
      "0.07192032394666228\n"
     ]
    }
   ],
   "source": [
    "print(e)"
   ]
  },
  {
   "cell_type": "code",
   "execution_count": null,
   "metadata": {},
   "outputs": [],
   "source": []
  }
 ],
 "metadata": {
  "colab": {
   "name": "TC4-tp2.ipynb",
   "provenance": [],
   "version": "0.3.2"
  },
  "kernelspec": {
   "display_name": "Python 3",
   "language": "python",
   "name": "python3"
  },
  "language_info": {
   "codemirror_mode": {
    "name": "ipython",
    "version": 3
   },
   "file_extension": ".py",
   "mimetype": "text/x-python",
   "name": "python",
   "nbconvert_exporter": "python",
   "pygments_lexer": "ipython3",
   "version": "3.7.1"
  }
 },
 "nbformat": 4,
 "nbformat_minor": 1
}
